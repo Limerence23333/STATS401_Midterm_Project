{
  "nbformat": 4,
  "nbformat_minor": 0,
  "metadata": {
    "colab": {
      "name": "Stats401_Groupproject1_Starplot.ipynb",
      "provenance": [],
      "collapsed_sections": []
    },
    "kernelspec": {
      "name": "python3",
      "display_name": "Python 3"
    },
    "language_info": {
      "name": "python"
    }
  },
  "cells": [
    {
      "cell_type": "code",
      "execution_count": null,
      "metadata": {
        "id": "hq7oVPvD1W5N"
      },
      "outputs": [],
      "source": [
        "import pandas as pd\n",
        "import seaborn as sns\n",
        "import numpy as np\n",
        "import matplotlib.pyplot as plt\n",
        "from collections import Counter\n"
      ]
    },
    {
      "cell_type": "code",
      "source": [
        "#read dataset\n",
        "data = pd.read_csv(\"airbnb_shanghai_cleaned2283.csv\").drop([\"Unnamed: 0\"],axis=1)[[\"num_comments\",\"grade\",\"labels\"]]\n",
        "data[\"popularity\"] = np.log(data[\"num_comments\"]+1)*data[\"grade\"]\n",
        "#data[\"popularity\"] = data[\"num_comments\"]*data[\"grade\"]\n",
        "data"
      ],
      "metadata": {
        "colab": {
          "base_uri": "https://localhost:8080/",
          "height": 423
        },
        "id": "Bjhv4GK-2Zy4",
        "outputId": "5d06bb62-f1f6-4b36-efdc-34fdc14d8a58"
      },
      "execution_count": null,
      "outputs": [
        {
          "output_type": "execute_result",
          "data": {
            "text/plain": [
              "      num_comments  grade                                             labels  \\\n",
              "0                4    5.0                                   ['近地铁站', '可以做饭']   \n",
              "1                5    5.0                                   ['灵活取消', '近地铁站']   \n",
              "2                5    4.8  ['超赞房东', '可开发票', '行李寄存', '免费停车', '可以做饭', '花园或后院']   \n",
              "3                3    5.0                   ['超赞房东', '灵活取消', '近地铁站', '可以做饭']   \n",
              "4                8    4.8                   ['超赞房东', '自助入住', '近地铁站', '可以做饭']   \n",
              "...            ...    ...                                                ...   \n",
              "2870             1    3.0                   ['灵活取消', '行李寄存', '免费停车', '可以做饭']   \n",
              "2871           181    4.9  ['超赞房东', '可开发票', '灵活取消', '提供接送机', '行李寄存', '自助入住']   \n",
              "2872            22    4.9             ['超赞房东', '行李寄存', '可以做饭', '浴缸', '可以停车']   \n",
              "2873             1    5.0          ['可开发票', '灵活取消', '近地铁站', '小区环境好', '允许吸烟']   \n",
              "2874            17    5.0   ['超赞房东', '可开发票', '灵活取消', '行李寄存', '自助入住', '免费停车']   \n",
              "\n",
              "      popularity  \n",
              "0       8.047190  \n",
              "1       8.958797  \n",
              "2       8.600445  \n",
              "3       6.931472  \n",
              "4      10.546678  \n",
              "...          ...  \n",
              "2870    2.079442  \n",
              "2871   25.499633  \n",
              "2872   15.363922  \n",
              "2873    3.465736  \n",
              "2874   14.451859  \n",
              "\n",
              "[2875 rows x 4 columns]"
            ],
            "text/html": [
              "\n",
              "  <div id=\"df-18698612-b249-4dd6-8ba2-eb682e6ec834\">\n",
              "    <div class=\"colab-df-container\">\n",
              "      <div>\n",
              "<style scoped>\n",
              "    .dataframe tbody tr th:only-of-type {\n",
              "        vertical-align: middle;\n",
              "    }\n",
              "\n",
              "    .dataframe tbody tr th {\n",
              "        vertical-align: top;\n",
              "    }\n",
              "\n",
              "    .dataframe thead th {\n",
              "        text-align: right;\n",
              "    }\n",
              "</style>\n",
              "<table border=\"1\" class=\"dataframe\">\n",
              "  <thead>\n",
              "    <tr style=\"text-align: right;\">\n",
              "      <th></th>\n",
              "      <th>num_comments</th>\n",
              "      <th>grade</th>\n",
              "      <th>labels</th>\n",
              "      <th>popularity</th>\n",
              "    </tr>\n",
              "  </thead>\n",
              "  <tbody>\n",
              "    <tr>\n",
              "      <th>0</th>\n",
              "      <td>4</td>\n",
              "      <td>5.0</td>\n",
              "      <td>['近地铁站', '可以做饭']</td>\n",
              "      <td>8.047190</td>\n",
              "    </tr>\n",
              "    <tr>\n",
              "      <th>1</th>\n",
              "      <td>5</td>\n",
              "      <td>5.0</td>\n",
              "      <td>['灵活取消', '近地铁站']</td>\n",
              "      <td>8.958797</td>\n",
              "    </tr>\n",
              "    <tr>\n",
              "      <th>2</th>\n",
              "      <td>5</td>\n",
              "      <td>4.8</td>\n",
              "      <td>['超赞房东', '可开发票', '行李寄存', '免费停车', '可以做饭', '花园或后院']</td>\n",
              "      <td>8.600445</td>\n",
              "    </tr>\n",
              "    <tr>\n",
              "      <th>3</th>\n",
              "      <td>3</td>\n",
              "      <td>5.0</td>\n",
              "      <td>['超赞房东', '灵活取消', '近地铁站', '可以做饭']</td>\n",
              "      <td>6.931472</td>\n",
              "    </tr>\n",
              "    <tr>\n",
              "      <th>4</th>\n",
              "      <td>8</td>\n",
              "      <td>4.8</td>\n",
              "      <td>['超赞房东', '自助入住', '近地铁站', '可以做饭']</td>\n",
              "      <td>10.546678</td>\n",
              "    </tr>\n",
              "    <tr>\n",
              "      <th>...</th>\n",
              "      <td>...</td>\n",
              "      <td>...</td>\n",
              "      <td>...</td>\n",
              "      <td>...</td>\n",
              "    </tr>\n",
              "    <tr>\n",
              "      <th>2870</th>\n",
              "      <td>1</td>\n",
              "      <td>3.0</td>\n",
              "      <td>['灵活取消', '行李寄存', '免费停车', '可以做饭']</td>\n",
              "      <td>2.079442</td>\n",
              "    </tr>\n",
              "    <tr>\n",
              "      <th>2871</th>\n",
              "      <td>181</td>\n",
              "      <td>4.9</td>\n",
              "      <td>['超赞房东', '可开发票', '灵活取消', '提供接送机', '行李寄存', '自助入住']</td>\n",
              "      <td>25.499633</td>\n",
              "    </tr>\n",
              "    <tr>\n",
              "      <th>2872</th>\n",
              "      <td>22</td>\n",
              "      <td>4.9</td>\n",
              "      <td>['超赞房东', '行李寄存', '可以做饭', '浴缸', '可以停车']</td>\n",
              "      <td>15.363922</td>\n",
              "    </tr>\n",
              "    <tr>\n",
              "      <th>2873</th>\n",
              "      <td>1</td>\n",
              "      <td>5.0</td>\n",
              "      <td>['可开发票', '灵活取消', '近地铁站', '小区环境好', '允许吸烟']</td>\n",
              "      <td>3.465736</td>\n",
              "    </tr>\n",
              "    <tr>\n",
              "      <th>2874</th>\n",
              "      <td>17</td>\n",
              "      <td>5.0</td>\n",
              "      <td>['超赞房东', '可开发票', '灵活取消', '行李寄存', '自助入住', '免费停车']</td>\n",
              "      <td>14.451859</td>\n",
              "    </tr>\n",
              "  </tbody>\n",
              "</table>\n",
              "<p>2875 rows × 4 columns</p>\n",
              "</div>\n",
              "      <button class=\"colab-df-convert\" onclick=\"convertToInteractive('df-18698612-b249-4dd6-8ba2-eb682e6ec834')\"\n",
              "              title=\"Convert this dataframe to an interactive table.\"\n",
              "              style=\"display:none;\">\n",
              "        \n",
              "  <svg xmlns=\"http://www.w3.org/2000/svg\" height=\"24px\"viewBox=\"0 0 24 24\"\n",
              "       width=\"24px\">\n",
              "    <path d=\"M0 0h24v24H0V0z\" fill=\"none\"/>\n",
              "    <path d=\"M18.56 5.44l.94 2.06.94-2.06 2.06-.94-2.06-.94-.94-2.06-.94 2.06-2.06.94zm-11 1L8.5 8.5l.94-2.06 2.06-.94-2.06-.94L8.5 2.5l-.94 2.06-2.06.94zm10 10l.94 2.06.94-2.06 2.06-.94-2.06-.94-.94-2.06-.94 2.06-2.06.94z\"/><path d=\"M17.41 7.96l-1.37-1.37c-.4-.4-.92-.59-1.43-.59-.52 0-1.04.2-1.43.59L10.3 9.45l-7.72 7.72c-.78.78-.78 2.05 0 2.83L4 21.41c.39.39.9.59 1.41.59.51 0 1.02-.2 1.41-.59l7.78-7.78 2.81-2.81c.8-.78.8-2.07 0-2.86zM5.41 20L4 18.59l7.72-7.72 1.47 1.35L5.41 20z\"/>\n",
              "  </svg>\n",
              "      </button>\n",
              "      \n",
              "  <style>\n",
              "    .colab-df-container {\n",
              "      display:flex;\n",
              "      flex-wrap:wrap;\n",
              "      gap: 12px;\n",
              "    }\n",
              "\n",
              "    .colab-df-convert {\n",
              "      background-color: #E8F0FE;\n",
              "      border: none;\n",
              "      border-radius: 50%;\n",
              "      cursor: pointer;\n",
              "      display: none;\n",
              "      fill: #1967D2;\n",
              "      height: 32px;\n",
              "      padding: 0 0 0 0;\n",
              "      width: 32px;\n",
              "    }\n",
              "\n",
              "    .colab-df-convert:hover {\n",
              "      background-color: #E2EBFA;\n",
              "      box-shadow: 0px 1px 2px rgba(60, 64, 67, 0.3), 0px 1px 3px 1px rgba(60, 64, 67, 0.15);\n",
              "      fill: #174EA6;\n",
              "    }\n",
              "\n",
              "    [theme=dark] .colab-df-convert {\n",
              "      background-color: #3B4455;\n",
              "      fill: #D2E3FC;\n",
              "    }\n",
              "\n",
              "    [theme=dark] .colab-df-convert:hover {\n",
              "      background-color: #434B5C;\n",
              "      box-shadow: 0px 1px 3px 1px rgba(0, 0, 0, 0.15);\n",
              "      filter: drop-shadow(0px 1px 2px rgba(0, 0, 0, 0.3));\n",
              "      fill: #FFFFFF;\n",
              "    }\n",
              "  </style>\n",
              "\n",
              "      <script>\n",
              "        const buttonEl =\n",
              "          document.querySelector('#df-18698612-b249-4dd6-8ba2-eb682e6ec834 button.colab-df-convert');\n",
              "        buttonEl.style.display =\n",
              "          google.colab.kernel.accessAllowed ? 'block' : 'none';\n",
              "\n",
              "        async function convertToInteractive(key) {\n",
              "          const element = document.querySelector('#df-18698612-b249-4dd6-8ba2-eb682e6ec834');\n",
              "          const dataTable =\n",
              "            await google.colab.kernel.invokeFunction('convertToInteractive',\n",
              "                                                     [key], {});\n",
              "          if (!dataTable) return;\n",
              "\n",
              "          const docLinkHtml = 'Like what you see? Visit the ' +\n",
              "            '<a target=\"_blank\" href=https://colab.research.google.com/notebooks/data_table.ipynb>data table notebook</a>'\n",
              "            + ' to learn more about interactive tables.';\n",
              "          element.innerHTML = '';\n",
              "          dataTable['output_type'] = 'display_data';\n",
              "          await google.colab.output.renderOutput(dataTable, element);\n",
              "          const docLink = document.createElement('div');\n",
              "          docLink.innerHTML = docLinkHtml;\n",
              "          element.appendChild(docLink);\n",
              "        }\n",
              "      </script>\n",
              "    </div>\n",
              "  </div>\n",
              "  "
            ]
          },
          "metadata": {},
          "execution_count": 4
        }
      ]
    },
    {
      "cell_type": "markdown",
      "source": [
        "Find 10  most frequent label"
      ],
      "metadata": {
        "id": "1lKBsFq77NGZ"
      }
    },
    {
      "cell_type": "code",
      "source": [
        "l = [eval(a) for a in data[\"labels\"].tolist()]\n",
        "list_labels = [a for  b in l for a in b]\n",
        "freq_labels = Counter(list_labels)\n",
        "freq_labels = sorted(freq_labels.items(), key = lambda x: x[1], reverse = True)\n",
        "freq_labels"
      ],
      "metadata": {
        "colab": {
          "base_uri": "https://localhost:8080/"
        },
        "id": "mxXlG1JT7MiM",
        "outputId": "2d0bf8e5-4ae7-4f7e-f978-784fee226145"
      },
      "execution_count": null,
      "outputs": [
        {
          "output_type": "execute_result",
          "data": {
            "text/plain": [
              "[('近地铁站', 2152),\n",
              " ('可以做饭', 2082),\n",
              " ('超赞房东', 1514),\n",
              " ('自助入住', 1499),\n",
              " ('可开发票', 1256),\n",
              " ('行李寄存', 1224),\n",
              " ('灵活取消', 1057),\n",
              " ('可以停车', 584),\n",
              " ('免费停车', 551),\n",
              " ('允许吸烟', 325),\n",
              " ('投影仪', 297),\n",
              " ('花园或后院', 239),\n",
              " ('可携宠物', 220),\n",
              " ('小区环境好', 184),\n",
              " ('浴缸', 157),\n",
              " ('供应早餐', 138),\n",
              " ('提供接送机', 112),\n",
              " ('EV 充电桩', 102),\n",
              " ('落地窗', 83),\n",
              " ('夜景', 83),\n",
              " ('爱彼迎专享', 58),\n",
              " ('桌游', 51),\n",
              " ('儿童餐椅', 34),\n",
              " ('婴儿床', 31),\n",
              " ('江景', 24),\n",
              " ('烧烤区', 23),\n",
              " ('卡拉 OK', 11),\n",
              " ('湖景', 2)]"
            ]
          },
          "metadata": {},
          "execution_count": 5
        }
      ]
    },
    {
      "cell_type": "code",
      "source": [
        "ten_most = ['近地铁站', '可以做饭', '超赞房东', '自助入住', '可开发票', '行李寄存', '灵活取消', '可以停车', '免费停车','允许吸烟' ]"
      ],
      "metadata": {
        "id": "oWaq_FxXWmRE"
      },
      "execution_count": null,
      "outputs": []
    },
    {
      "cell_type": "markdown",
      "source": [
        "High, medium, low popularity defined"
      ],
      "metadata": {
        "id": "efH7t4fKYdKz"
      }
    },
    {
      "cell_type": "code",
      "source": [
        "data[\"popularity\"].describe()"
      ],
      "metadata": {
        "colab": {
          "base_uri": "https://localhost:8080/"
        },
        "id": "8eDkhnzG3_b5",
        "outputId": "6bfea44f-059c-4899-b7cd-dbbbfa88e40e"
      },
      "execution_count": null,
      "outputs": [
        {
          "output_type": "execute_result",
          "data": {
            "text/plain": [
              "count    2875.000000\n",
              "mean       12.426048\n",
              "std         6.179189\n",
              "min         0.693147\n",
              "25%         6.931472\n",
              "50%        12.176043\n",
              "75%        17.074051\n",
              "max        29.119717\n",
              "Name: popularity, dtype: float64"
            ]
          },
          "metadata": {},
          "execution_count": 7
        }
      ]
    },
    {
      "cell_type": "code",
      "source": [
        "#bound = data[\"popularity\"].describe()[\"75%\"] + 1.5*(data[\"popularity\"].describe()[\"75%\"]-data[\"popularity\"].describe()[\"25%\"])\n",
        "bound =22.1"
      ],
      "metadata": {
        "id": "pVcSpbh46OPn"
      },
      "execution_count": null,
      "outputs": []
    },
    {
      "cell_type": "code",
      "source": [
        "low = data[data[\"popularity\"]<=bound][\"labels\"]\n",
        "#medium = data[(data[\"popularity\"]>10) & (data[\"popularity\"]<=40)][\"labels\"]\n",
        "high = data[data[\"popularity\"]>bound][\"labels\"]   \n",
        "print(len(low),len(high))\n",
        "high"
      ],
      "metadata": {
        "colab": {
          "base_uri": "https://localhost:8080/"
        },
        "id": "5eLqdmW84eWl",
        "outputId": "648e771c-5731-46f0-979b-4d55065c76ea"
      },
      "execution_count": null,
      "outputs": [
        {
          "output_type": "stream",
          "name": "stdout",
          "text": [
            "2675 200\n"
          ]
        },
        {
          "output_type": "execute_result",
          "data": {
            "text/plain": [
              "74      ['超赞房东', '可开发票', '提供接送机', '行李寄存', '自助入住', '免费停车']\n",
              "78      ['超赞房东', '可开发票', '灵活取消', '提供接送机', '行李寄存', '自助入住']\n",
              "95                       ['超赞房东', '灵活取消', '行李寄存', '可以做饭']\n",
              "136             ['超赞房东', '近地铁站', '可以做饭', '小区环境好', '供应早餐']\n",
              "149                     ['灵活取消', '免费停车', '可以做饭', '小区环境好']\n",
              "                              ...                        \n",
              "2686     ['超赞房东', '可开发票', '行李寄存', '自助入住', '近地铁站', '可以做饭']\n",
              "2701     ['超赞房东', '可开发票', '灵活取消', '行李寄存', '自助入住', '可以做饭']\n",
              "2775     ['超赞房东', '可开发票', '行李寄存', '自助入住', '近地铁站', '可以做饭']\n",
              "2849       ['超赞房东', '行李寄存', '自助入住', '免费停车', '可以做饭', '桌游']\n",
              "2871    ['超赞房东', '可开发票', '灵活取消', '提供接送机', '行李寄存', '自助入住']\n",
              "Name: labels, Length: 200, dtype: object"
            ]
          },
          "metadata": {},
          "execution_count": 9
        }
      ]
    },
    {
      "cell_type": "code",
      "source": [
        "def find_freq (labels_series, label):\n",
        "  l = [eval(a) for a in labels_series.tolist()]\n",
        "  list_labels = [a for  b in l for a in b]\n",
        "  freq_labels = Counter(list_labels)\n",
        "  count = freq_labels[label]\n",
        "  return count"
      ],
      "metadata": {
        "id": "-mSFDf4VYo5R"
      },
      "execution_count": null,
      "outputs": []
    },
    {
      "cell_type": "code",
      "source": [
        "high_ten_most = [find_freq(high, label)/len(high) for label in ten_most]\n",
        "high_ten_most"
      ],
      "metadata": {
        "colab": {
          "base_uri": "https://localhost:8080/"
        },
        "id": "mHtMdRkJZNz1",
        "outputId": "035e1c34-e8c7-439f-d9da-9e3df87c7391"
      },
      "execution_count": null,
      "outputs": [
        {
          "output_type": "execute_result",
          "data": {
            "text/plain": [
              "[0.805, 0.745, 0.785, 0.805, 0.565, 0.51, 0.21, 0.3, 0.14, 0.05]"
            ]
          },
          "metadata": {},
          "execution_count": 11
        }
      ]
    },
    {
      "cell_type": "code",
      "source": [
        "low_ten_most = [find_freq(low, label)/len(low) for label in ten_most]\n",
        "low_ten_most"
      ],
      "metadata": {
        "colab": {
          "base_uri": "https://localhost:8080/"
        },
        "id": "oges4GQyahkP",
        "outputId": "20ea8937-3036-4987-c504-5f41324a0718"
      },
      "execution_count": null,
      "outputs": [
        {
          "output_type": "execute_result",
          "data": {
            "text/plain": [
              "[0.7442990654205608,\n",
              " 0.7226168224299065,\n",
              " 0.5072897196261682,\n",
              " 0.5001869158878505,\n",
              " 0.42728971962616824,\n",
              " 0.4194392523364486,\n",
              " 0.3794392523364486,\n",
              " 0.1958878504672897,\n",
              " 0.1955140186915888,\n",
              " 0.11775700934579439]"
            ]
          },
          "metadata": {},
          "execution_count": 12
        }
      ]
    },
    {
      "cell_type": "markdown",
      "source": [
        "PLOT"
      ],
      "metadata": {
        "id": "8dwkO3r5bTUP"
      }
    },
    {
      "cell_type": "code",
      "source": [
        "from matplotlib.patches import Circle, RegularPolygon\n",
        "from matplotlib.path import Path\n",
        "from matplotlib.projections.polar import PolarAxes\n",
        "from matplotlib.projections import register_projection\n",
        "from matplotlib.spines import Spine\n",
        "from matplotlib.transforms import Affine2D\n",
        "from matplotlib.font_manager import FontProperties\n",
        "import matplotlib.pyplot as plt\n",
        "import matplotlib as mpl"
      ],
      "metadata": {
        "id": "7F9uO1CKbUL5"
      },
      "execution_count": null,
      "outputs": []
    },
    {
      "cell_type": "code",
      "source": [
        "!wget -O /usr/share/fonts/truetype/liberation/simhei.ttf \"https://www.wfonts.com/download/data/2014/06/01/simhei/chinese.simhei.ttf\""
      ],
      "metadata": {
        "colab": {
          "base_uri": "https://localhost:8080/"
        },
        "id": "asLdejUiimJ3",
        "outputId": "7bd884dd-4acc-4bab-b8c5-c4f621d6bdd9"
      },
      "execution_count": null,
      "outputs": [
        {
          "output_type": "stream",
          "name": "stdout",
          "text": [
            "--2022-04-11 16:25:30--  https://www.wfonts.com/download/data/2014/06/01/simhei/chinese.simhei.ttf\n",
            "Resolving www.wfonts.com (www.wfonts.com)... 104.225.219.210\n",
            "Connecting to www.wfonts.com (www.wfonts.com)|104.225.219.210|:443... connected.\n",
            "HTTP request sent, awaiting response... 200 OK\n",
            "Length: 10050870 (9.6M) [application/octetstream]\n",
            "Saving to: ‘/usr/share/fonts/truetype/liberation/simhei.ttf’\n",
            "\n",
            "/usr/share/fonts/tr 100%[===================>]   9.58M  30.5MB/s    in 0.3s    \n",
            "\n",
            "2022-04-11 16:25:30 (30.5 MB/s) - ‘/usr/share/fonts/truetype/liberation/simhei.ttf’ saved [10050870/10050870]\n",
            "\n"
          ]
        }
      ]
    },
    {
      "cell_type": "code",
      "source": [
        "import matplotlib.pyplot as plt\n",
        "import matplotlib as mpl\n",
        "\n",
        "# show Chinese\n",
        "zhfont = mpl.font_manager.FontProperties(fname='/usr/share/fonts/truetype/liberation/simhei.ttf')\n",
        "plt.rcParams['axes.unicode_minus'] = False  \n",
        "\n",
        "plt.style.use('ggplot')\n",
        "\n",
        "feature = ten_most\n",
        "N = len(feature)\n",
        "\n",
        "#set the angles\n",
        "angles = np.linspace(0,2*np.pi,N,endpoint=False)\n",
        "angles = np.concatenate((angles,[angles[0]]))\n",
        "\n",
        "high_ten = np.concatenate((high_ten_most,[high_ten_most[0]]))\n",
        "#medium_ten = np.concatenate((medium_ten_most,[medium_ten_most[0]]))\n",
        "low_ten = np.concatenate((low_ten_most,[low_ten_most[0]]))\n",
        "\n",
        "#plot\n",
        "fig = plt.figure()\n",
        "ax = fig.add_subplot(111, polar=True)\n",
        "\n",
        "ax.plot(angles, high_ten, marker='o', color='g', linewidth=2, label='Extremly popular')\n",
        "ax.fill(angles, high_ten, 'g', alpha=0.2)\n",
        "\n",
        "#ax.plot(angles, medium_ten, marker='o', color='g', linewidth=2, label='medium')\n",
        "#ax.fill(angles, medium_ten, 'C1', alpha=0.2)\n",
        "\n",
        "ax.plot(angles, low_ten, marker='o', color='C1', linewidth=2, label='Nomal')\n",
        "ax.fill(angles, low_ten, 'C1', alpha=0.2)\n",
        "\n",
        "plt.xticks(fontproperties=zhfont)\n",
        "ax.legend(['Top 200 rentals','Rest rentals'],loc='center right',bbox_to_anchor=(1.5, 0))\n",
        "ax.set_thetagrids(angles*180/np.pi, feature)\n",
        "ax.set_ylim(0,1)\n",
        "#plt.title(u'Radar Plot of 10 Most Popular Labels', fontproperties=zhfont, size=15)\n",
        "#plt.title('Star Plot of 10 Most Popular Labels')\n",
        "ax.grid(True)\n",
        "plt.savefig(\"Star.png\",dpi=200)\n",
        "plt.show()"
      ],
      "metadata": {
        "colab": {
          "base_uri": "https://localhost:8080/",
          "height": 278
        },
        "id": "4Jw10O_tcrbl",
        "outputId": "017a35ef-3ac3-4b4a-d7c1-fbeadd262ccb"
      },
      "execution_count": null,
      "outputs": [
        {
          "output_type": "display_data",
          "data": {
            "text/plain": [
              "<Figure size 432x288 with 1 Axes>"
            ],
            "image/png": "[encoded data removed]"
          },
          "metadata": {}
        }
      ]
    },
    {
      "cell_type": "code",
      "source": [
        ""
      ],
      "metadata": {
        "id": "EFg-AMONpUFt"
      },
      "execution_count": null,
      "outputs": []
    }
  ]
}